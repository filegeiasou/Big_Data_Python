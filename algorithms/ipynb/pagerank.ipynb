{
  "nbformat": 4,
  "nbformat_minor": 0,
  "metadata": {
    "colab": {
      "private_outputs": true,
      "provenance": []
    },
    "kernelspec": {
      "name": "python3",
      "display_name": "Python 3"
    },
    "language_info": {
      "name": "python"
    },
    "accelerator": "GPU",
    "gpuClass": "standard"
  },
  "cells": [
    {
      "cell_type": "code",
      "execution_count": null,
      "metadata": {
        "id": "2nvBgO_e6FNZ"
      },
      "outputs": [],
      "source": [
        "import matplotlib.pyplot as plt\n",
        "import networkx as nx\n",
        "import pandas as pd\n",
        "import scipy as scipy"
      ]
    },
    {
      "cell_type": "markdown",
      "source": [
        "# Create graph\n",
        "\n"
      ],
      "metadata": {
        "id": "QTNuBns0-waL"
      }
    },
    {
      "cell_type": "code",
      "source": [
        "G = nx.DiGraph()\n",
        "\n",
        "[G.add_node(k) for k in [\"A\", \"B\", \"C\", \"D\", \"E\", \"F\", \"G\"]]\n",
        "G.add_edges_from([('G','A'), ('A','G'),('B','A'),\n",
        "                  ('C','A'),('A','C'),('A','D'),\n",
        "                  ('E','A'),('F','A'),('B','D'),\n",
        "                  ('D','F')])\n",
        "pos = nx.spiral_layout(G)\n",
        "nx.draw(G, pos, with_labels = True, node_color=\"red\")"
      ],
      "metadata": {
        "id": "1i3DgExQ63XV"
      },
      "execution_count": null,
      "outputs": []
    },
    {
      "cell_type": "markdown",
      "source": [
        "# Run pagerank"
      ],
      "metadata": {
        "id": "gFQ_KCQT_Eke"
      }
    },
    {
      "cell_type": "code",
      "source": [
        "pr1 = nx.pagerank(G)\n",
        "print(pr1)\n",
        "nx.draw(G, pos, nodelist=list(pr1.keys()), node_size=[round(v * 4000) for v in pr1.values()], \n",
        "        with_labels = True, node_color=\"red\")   "
      ],
      "metadata": {
        "id": "Z80KS0Og7oI7"
      },
      "execution_count": null,
      "outputs": []
    },
    {
      "cell_type": "markdown",
      "source": [
        "# Adjusting dampening/teleports"
      ],
      "metadata": {
        "id": "8OssRuDh-_Az"
      }
    },
    {
      "cell_type": "code",
      "source": [
        "pr_09 = nx.pagerank(G, alpha=0.9)\n",
        "pr_08 = nx.pagerank(G, alpha=0.8)\n",
        "res = pd.DataFrame({\"alpha=0.9\": pr_09, \"alpha=0.8\": pr_08})\n",
        "res"
      ],
      "metadata": {
        "id": "DMMPF9dR-U-9"
      },
      "execution_count": null,
      "outputs": []
    },
    {
      "cell_type": "markdown",
      "source": [
        "# Personal PageRank"
      ],
      "metadata": {
        "id": "mGkCqWde_HhP"
      }
    },
    {
      "cell_type": "code",
      "source": [
        "pr_e = nx.pagerank(G, alpha=0.9, personalization={'A': 1})\n",
        "print(pr_e)\n",
        "nx.draw(G, pos, nodelist=list(pr_e.keys()), node_size=[round(v * 4000) for v in pr_e.values()], \n",
        "        with_labels = True, node_color=\"red\")   "
      ],
      "metadata": {
        "id": "MQtmvvxz_GkF"
      },
      "execution_count": null,
      "outputs": []
    },
    {
      "cell_type": "markdown",
      "source": [
        "# MovieLens Recommender"
      ],
      "metadata": {
        "id": "UnKZqSekDadH"
      }
    },
    {
      "cell_type": "markdown",
      "source": [
        "## Load data"
      ],
      "metadata": {
        "id": "f7nICimXDgFA"
      }
    },
    {
      "cell_type": "code",
      "source": [
        "import urllib.request\n",
        "import shutil\n",
        "import zipfile\n",
        "import os\n",
        "filename='ml-100k'\n",
        "data_url='https://files.grouplens.org/datasets/movielens/ml-100k.zip'\n",
        "with urllib.request.urlopen(data_url) as response, open('./'+filename, 'wb') as out_file:\n",
        "    shutil.copyfileobj(response, out_file)\n",
        "print('Download completed')\n",
        "with zipfile.ZipFile('./'+filename, 'r') as zip_ref:\n",
        "    zip_ref.extractall('./sample_data/')\n",
        "dirs = [x[0] for x in os.walk(\"./sample_data\")]\n",
        "ml = filter(lambda dirName: dirName if ('ml' in dirName) else '', list(dirs))\n",
        "dt_dir_name= list(ml)[0]\n",
        "rdata = pd.read_csv(dt_dir_name +'/'+ 'u.data', delimiter='\\t', names=['userId', 'movieId', 'rating', 'timestamp'])\n",
        "rdata['userId'] = 'u' + rdata['userId'].astype(str)\n",
        "rdata['movieId'] = 'i' + rdata['movieId'].astype(str)\n",
        "\n",
        "usrdata = pd.read_csv(dt_dir_name +'/'+'u.user', delimiter='|', names=['user id', 'age' ,'gender' ,'occupation' , 'zip code'])\n",
        "item_data = pd.read_csv(dt_dir_name +'/'+ 'u.item', delimiter='|', encoding=\"ISO-8859-1\", header=None)\n",
        "item_data = item_data[[0,1]]\n",
        "item_data.columns = ['movieId','movieTitle']\n",
        "item_data['movieId'] = 'i' + item_data['movieId'].astype(str)\n",
        "item_data = item_data.set_index('movieId')\n",
        "rdata.head()"
      ],
      "metadata": {
        "id": "Na2ritdZ__P0"
      },
      "execution_count": null,
      "outputs": []
    },
    {
      "cell_type": "code",
      "source": [
        "rdata = pd.merge(rdata, item_data, how='left', on='movieId')\n",
        "rdata.head()"
      ],
      "metadata": {
        "id": "unkkuRmWCAaQ"
      },
      "execution_count": null,
      "outputs": []
    },
    {
      "cell_type": "markdown",
      "source": [
        "## Create graph"
      ],
      "metadata": {
        "id": "5TKXQJWdGprn"
      }
    },
    {
      "cell_type": "code",
      "source": [
        "#Create a graph\n",
        "G = nx.Graph()\n",
        "#Add nodes\n",
        "G.add_nodes_from(rdata.userId, bipartite=0)\n",
        "G.add_nodes_from(rdata.movieId, bipartite=1)\n",
        "#Add weights for edges\n",
        "G.add_weighted_edges_from([(uId, mId,rating) for (uId, mId, rating)\n",
        "              in rdata[['userId', 'movieId', 'rating']].to_numpy()])\n",
        "print(nx.info(G))\n",
        "print(nx.is_bipartite(G))"
      ],
      "metadata": {
        "id": "Dl8iO3rVDpnV"
      },
      "execution_count": null,
      "outputs": []
    },
    {
      "cell_type": "markdown",
      "source": [
        "## Run pagerank"
      ],
      "metadata": {
        "id": "jA89dsQ-GuEL"
      }
    },
    {
      "cell_type": "code",
      "source": [
        "movie_rank = nx.pagerank(G, alpha=0.85)"
      ],
      "metadata": {
        "id": "xJd0cFYAEL0x"
      },
      "execution_count": null,
      "outputs": []
    },
    {
      "cell_type": "code",
      "source": [
        "def return_top_movies(movie_rank):\n",
        "  movie_rank = dict(sorted(movie_rank.items(), key=lambda item: item[1], reverse=True))\n",
        "  top_10_movies = []\n",
        "  for key, value in movie_rank.items():\n",
        "    if 'i' in key:\n",
        "      top_10_movies.append(key)\n",
        "      if len(top_10_movies) == 10:\n",
        "        break\n",
        "  return item_data.loc[top_10_movies]"
      ],
      "metadata": {
        "id": "8IdkQacjJYeH"
      },
      "execution_count": null,
      "outputs": []
    },
    {
      "cell_type": "code",
      "source": [
        "return_top_movies(movie_rank)"
      ],
      "metadata": {
        "id": "QDTcPMPVEMw5"
      },
      "execution_count": null,
      "outputs": []
    },
    {
      "cell_type": "code",
      "source": [
        "user_query = 'u196'\n",
        "recommendation = nx.pagerank(G, alpha=0.85, personalization={user_query:1})\n",
        "return_top_movies(recommendation)"
      ],
      "metadata": {
        "id": "B0cSfFmmW2dH"
      },
      "execution_count": null,
      "outputs": []
    }
  ]
}